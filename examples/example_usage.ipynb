{
  "nbformat": 4,
  "nbformat_minor": 0,
  "metadata": {
    "colab": {
      "provenance": []
    },
    "kernelspec": {
      "name": "python3",
      "display_name": "Python 3"
    },
    "language_info": {
      "name": "python"
    }
  },
  "cells": [
    {
      "cell_type": "code",
      "execution_count": null,
      "metadata": {
        "id": "oS2GjyaTPOD_"
      },
      "outputs": [],
      "source": [
        "# examples/example_usage.ipynb\n",
        "# This is a Jupyter Notebook file. You can create it using Jupyter or Google Colab.\n",
        "# Below is the content of the notebook cells.\n",
        "\n",
        "# Cell 1\n",
        "# Install the library from GitHub\n",
        "!pip install git+https://github.com/AlexanderOsharov/math_function_analysis.gits\n",
        "\n",
        "# Cell 2\n",
        "# Import the necessary module\n",
        "from math_function_analysis import MathFunctionAnalysis\n",
        "\n",
        "# Cell 3\n",
        "# Define a function\n",
        "function_str = \"1 / (x**2 - 1)\"\n",
        "\n",
        "# Create an analysis object\n",
        "analysis = MathFunctionAnalysis(function_str)\n",
        "\n",
        "# Cell 4\n",
        "# Get a detailed report\n",
        "analysis.display_report()\n",
        "\n",
        "# Cell 5\n",
        "# Plot the function\n",
        "analysis.plot()\n",
        "\n",
        "# Cell 6\n",
        "# Step-by-step analysis\n",
        "analysis.step_by_step_analysis()"
      ]
    }
  ]
}